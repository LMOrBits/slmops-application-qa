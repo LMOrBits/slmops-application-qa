{
 "cells": [
  {
   "cell_type": "code",
   "execution_count": 1,
   "metadata": {},
   "outputs": [
    {
     "name": "stderr",
     "output_type": "stream",
     "text": [
      "/Users/parsa/Desk/projects/university/slmops-project/application/slmops-application-qa/backend/app/shared/config.py:126: UserWarning: The value of SECRET_KEY is \"changethis\", for security, please change it, at least for deployments.\n",
      "  warnings.warn(message, stacklevel=1)\n",
      "/Users/parsa/Desk/projects/university/slmops-project/application/slmops-application-qa/backend/app/shared/config.py:126: UserWarning: The value of FIRST_SUPERUSER_PASSWORD is \"changethis\", for security, please change it, at least for deployments.\n",
      "  warnings.warn(message, stacklevel=1)\n"
     ]
    }
   ],
   "source": [
    "from app.shared.config import settings"
   ]
  },
  {
   "cell_type": "code",
   "execution_count": 4,
   "metadata": {},
   "outputs": [
    {
     "data": {
      "text/plain": [
       "[\"{'question': 'Can I change my seat assignment after I have checked in?', 'answer': 'As long as your boarding pass has not yet been printed, you can still change your seat number after check-in. Click for details.'}\",\n",
       " \"{'question': 'Can I check in online for connecting flights with other airlines?', 'answer': 'If your journey starts with Turkish Airlines and continues on a partner airline, and check-in is available for the partner airline in concern you can check in online for the entire trip.'}\",\n",
       " \"{'question': 'Can I check in online for group tickets?', 'answer': 'For group tickets purchased from a travel agency, please write the surnames of the passengers in the group together with their ticket numbers, one by one. You can check in up to 9 passengers in one transaction.'}\",\n",
       " \"{'question': 'Can I choose emergency exit seats during online check-in or self-service kiosk check-in?', 'answer': 'Emergency exit seats can be selected and purchased before or during check-in. Check-in for purchased emergency exit seats can be performed online and through the kiosk. It is not possible to purchase an emergency exit seat through the kiosk.'}\",\n",
       " \"{'question': 'Can I complete online check-in for my child?', 'answer': 'You can check in for all passengers who have the same reservation code (PNR).'}\",\n",
       " \"{'question': 'Do I need to take a printout of my online ticket with me to the airport?', 'answer': 'No, you do not need to take a printout of your online ticket to the airport with you. You can complete all procedures at the check-in desk with your ticket number, booking code (PNR), and ID.'}\",\n",
       " \"{'question': 'How do I cancel my online check-in?', 'answer': 'You can cancel your online check-in by contacting our call center.'}\",\n",
       " \"{'question': 'How do I check-in at counter?', 'answer': 'After you complete your ticket and ID check at the check-in counter, your baggage is collected and your boarding card is issued. After this process, you can check your boarding gate by following the information screens and board with your board pass.'}\",\n",
       " \"{'question': 'How do I perform kiosk check-in?', 'answer': 'First of all, the kiosks you can check in are touch screen, designed to be easy to use and have a very simple menu. To start check-in process, you can place a Miles & Smiles or any debit card in the card reader or enter an e-ticket number or reservation code (PNR). Check-in ends upon the selection of the seat, after which the boarding card is produced. The card that you place on the card reader at the time of check-in is only used to access your credentials. You can visit our check-in page for full details about Kiosk.'}\",\n",
       " \"{'question': 'How does self-service check-in work?', 'answer': 'Most importantly, we would like to reassure you that our self-service kiosks have a touch screen and straightforward menus that have been designed for ease of use. In order to start the check-in process, place your Miles&Smiles card or the card that was used to purchase the flight on the card reader. Alternatively, you can enter your e-ticket number or reservation code (PNR). Once you have selected a seat, your boarding pass is printed off and the check-in process is complete. The card you place on the card reader during check-in is only used for identification purposes. For more detailed information please visit our check-in page.'}\",\n",
       " \"{'question': 'How many hours before check-in should I arrive at the airport?', 'answer': 'You need to arrive at the airport at least 3 hours before takeoff for flights against time losses that may occur due to additional measures taken at airports.'}\",\n",
       " \"{'question': 'If I do not have any baggage can I go straight to the boarding gate?', 'answer': 'If you checked in online or at a kiosk and do not have any baggage, you may go directly to the boarding gate without stopping at the counter. Please have your online or mobile boarding pass with you. For more information, please visit our baggage page.'}\",\n",
       " \"{'question': 'What do I need to do if I checked in online but then arrive late at the airport or want to cancel my flight?', 'answer': 'To make a new reservation or a cancelation, please contact our call center.'}\",\n",
       " \"{'question': 'What does check-in mean?', 'answer': 'Check-in refers to all the essential ticket and baggage procedures you need to go through at the airport by a specific time before the flight departure.'}\",\n",
       " \"{'question': 'What happens if I reserved assignment a seat during reservation?', 'answer': 'For tickets purchased from all our sales channels, you can use the same seat number (paid / free) at the online check-in if you have selected your seat number at the time of reservation. After completing online check-in, if you wish to change your seat number, you can click on the “Change Seat” link on the last screen before printing your boarding pass. Passengers who have issued boarding passes cannot be replaced through online channels.'}\",\n",
       " \"{'question': 'What is a Known Traveler number?', 'answer': 'This number is used for flights to the US and shows that the pre-flight checks and safety scans required for the trip have been completed.'}\",\n",
       " \"{'question': 'What is the maximum number of passengers I can check in online?', 'answer': 'You can check in online for up to 9 passengers with the same reservation booking (PNR).'}\",\n",
       " \"{'question': 'What should I do if I checked in at the self-service kiosk but also have baggage to check?', 'answer': 'If you have baggage to check for the aircraft hold, you can hand it in at one of our “Bag Drop” counters.'}\",\n",
       " \"{'question': 'What should I do if I checked in online but also have baggage to check?', 'answer': 'As we do not ask passengers for their baggage details during online check-in, you need to hand in your baggage to check at the airport “Bag Drop” or “Online Check-in” counters. If you have extra baggage, make sure you arrive at the airport with enough time for the payment procedures.'}\",\n",
       " \"{'question': 'What time do I need to arrive at the airport if I checked in online,? Also, what do I need to do when I get there?', 'answer': 'If you already checked in online, you can get your boarding pass and hand in your baggage at one of the online check-in counters. Please note that these procedures must be completed at least 60 minutes before departure for international flights and 45 minutes before departure for domestic flights. This time may vary at some stations. When you plan your time of arrival at the airport, please take into account the length of time needed for these procedures as well as the airport security checks. Passengers who have already printed their boarding pass and have no baggage to check in can go straight to security control and then to their boarding gate. Passengers with baggage to check can hand it in at one of the Bag Drop counters before going proceeding to their boarding gate. For more detailed information please visit our check-in page. (e.g., 120 minutes before flights from Caracas, Lagos, Abuja).'}\",\n",
       " \"{'question': 'When can I check-in online?', 'answer': 'Online check-in starts 24 hours before the flight and ends 90 minutes before the flight. You can check whether there is an online check-in option at the airport where your flight will take place, from the list of online / mobile check-in facilities at the airports.'}\",\n",
       " \"{'question': 'When can I use the self-service check-in kiosks?', 'answer': 'Online check-in starts 24 hours before the flight and ends 90 minutes before the flight. This time may vary at some airports. Please note your airport and you can check in from the kiosks during these times. (e.g., 120 minutes before flights from Caracas, Lagos, Abuja).'}\",\n",
       " \"{'question': 'When do I need to be at the boarding gate?', 'answer': 'For flights requiring special security control, e.g., the United States, United Kingdom, Israel, Canada, you must be at the boarding gate at least 30 minutes before your flight departure time. For all other flights, you must be at the gate at least 20 minutes before departure. When planning your time schedule, please do not forget that from some terminals it can take up to 25 minutes to reach the gate.'}\",\n",
       " \"{'question': 'When does check-in close at the airport?', 'answer': 'The check-in desk closes 45 minutes before departure for domestic flights and 60 minutes beforehand for international flights. This time may vary at some airports. (e.g., 120 minutes before flights from Caracas).'}\"]"
      ]
     },
     "execution_count": 4,
     "metadata": {},
     "output_type": "execute_result"
    }
   ],
   "source": [
    "\n"
   ]
  },
  {
   "cell_type": "code",
   "execution_count": 1,
   "metadata": {},
   "outputs": [
    {
     "name": "stderr",
     "output_type": "stream",
     "text": [
      "/Users/parsa/Desk/projects/university/slmops-project/application/slmops-application-qa/backend/app/shared/config.py:126: UserWarning: The value of SECRET_KEY is \"changethis\", for security, please change it, at least for deployments.\n",
      "  warnings.warn(message, stacklevel=1)\n",
      "/Users/parsa/Desk/projects/university/slmops-project/application/slmops-application-qa/backend/app/shared/config.py:126: UserWarning: The value of FIRST_SUPERUSER_PASSWORD is \"changethis\", for security, please change it, at least for deployments.\n",
      "  warnings.warn(message, stacklevel=1)\n"
     ]
    }
   ],
   "source": [
    "from langchain_chroma import Chroma\n",
    "from langchain_core.output_parsers import StrOutputParser\n",
    "from langchain_core.prompts import ChatPromptTemplate\n",
    "from langchain_core.runnables import RunnablePassthrough\n",
    "from langchain_openai import OpenAIEmbeddings\n",
    "\n",
    "from langchain_openai import ChatOpenAI\n",
    "import nest_asyncio\n",
    "from langchain.prompts import PromptTemplate,ChatPromptTemplate\n",
    "from langchain_core.runnables import RunnablePassthrough, RunnableLambda\n",
    "from app.shared.config import settings\n",
    "model = ChatOpenAI(model=\"gpt-4o-mini\")\n",
    "embeddings = OpenAIEmbeddings(model=\"text-embedding-3-large\")\n",
    "\n",
    "template = \"\"\"Answer the question based only on the following context:\n",
    "{context}\n",
    "\n",
    "Question: {question}\n",
    "\"\"\"\n",
    "prompt = ChatPromptTemplate.from_template(template)\n",
    "\n",
    "# if settings.VECTOREDB_DIR and settings.STATUS == \"MOBILE\":\n",
    "if True:  \n",
    "    vectorstore = Chroma(\n",
    "        collection_name=\"qa_collection\",\n",
    "        embedding_function=embeddings,\n",
    "        persist_directory=settings.VECTOREDB_DIR,\n",
    "    )\n",
    "\n",
    "else:\n",
    "    vectorstore = Chroma.from_texts(\n",
    "        [str(qa) for qa in qas],\n",
    "        embedding=embeddings,\n",
    "        persist_directory=settings.VECTOREDB_DIR,\n",
    "        metadatas=qas,\n",
    "        collection_name=\"qa_collection\",\n",
    "    )\n",
    "\n",
    "\n",
    "retriever = vectorstore.as_retriever()\n",
    "\n",
    "\n",
    "\n",
    "from langchain.retrievers.document_compressors import DocumentCompressorPipeline\n",
    "from langchain_community.document_transformers import EmbeddingsRedundantFilter\n",
    "from langchain.retrievers.document_compressors import EmbeddingsFilter\n",
    "from langchain.retrievers.document_compressors import LLMListwiseRerank\n",
    "from langchain_text_splitters import CharacterTextSplitter\n",
    "from langchain.retrievers import ContextualCompressionRetriever\n",
    "\n",
    "def pretty_print_docs(docs):\n",
    "    print(\n",
    "        f\"\\n{'-' * 100}\\n\".join(\n",
    "            [f\"Document {i+1}:\\n\\n\" + d.page_content for i, d in enumerate(docs)]\n",
    "        )\n",
    "    )\n",
    "\n",
    "# splitter = CharacterTextSplitter(chunk_size=300, chunk_overlap=0, separator=\". \")\n",
    "redundant_filter = EmbeddingsRedundantFilter(embeddings=embeddings)\n",
    "# relevant_filter = EmbeddingsFilter(embeddings=embeddings, similarity_threshold=0.46)\n",
    "_filter = LLMListwiseRerank.from_llm(model)\n",
    "pipeline_compressor = DocumentCompressorPipeline(\n",
    "    transformers=[redundant_filter, _filter]\n",
    ")\n",
    "compression_retriever = ContextualCompressionRetriever(\n",
    "    base_retriever=retriever,\n",
    "    base_compressor=pipeline_compressor,\n",
    ")\n",
    "\n",
    "retrieval_chain = (\n",
    "    {\n",
    "        \"context\": compression_retriever.with_config(run_name=\"Docs\"),\n",
    "        \"question\": RunnablePassthrough(),\n",
    "    }\n",
    "    | prompt\n",
    "    | model\n",
    "    | StrOutputParser()\n",
    ")"
   ]
  },
  {
   "cell_type": "code",
   "execution_count": 2,
   "metadata": {},
   "outputs": [
    {
     "data": {
      "text/plain": [
       "'After you complete your ticket and ID check at the check-in counter, your baggage is collected and your boarding card is issued. After this process, you can check your boarding gate by following the information screens and board with your boarding pass.'"
      ]
     },
     "execution_count": 2,
     "metadata": {},
     "output_type": "execute_result"
    }
   ],
   "source": [
    "retrieval_chain.invoke(\"How do I check-in at counter?\" )"
   ]
  },
  {
   "cell_type": "code",
   "execution_count": 43,
   "metadata": {},
   "outputs": [
    {
     "data": {
      "image/png": "[encoded data removed]",
      "text/plain": [
       "<IPython.core.display.Image object>"
      ]
     },
     "metadata": {},
     "output_type": "display_data"
    }
   ],
   "source": [
    "from IPython.display import Image, display\n",
    "image = retrieval_chain.get_graph().draw_mermaid_png()\n",
    "display(Image(data=image))\n"
   ]
  },
  {
   "cell_type": "code",
   "execution_count": null,
   "metadata": {},
   "outputs": [],
   "source": []
  },
  {
   "cell_type": "code",
   "execution_count": 23,
   "metadata": {},
   "outputs": [
    {
     "data": {
      "text/plain": [
       "'/Users/parsa/Desk/projects/university/slmops-project/application/slmops-application-qa/backend/data/vectoredb'"
      ]
     },
     "execution_count": 23,
     "metadata": {},
     "output_type": "execute_result"
    }
   ],
   "source": [
    "settings.VECTOREDB_DIR"
   ]
  },
  {
   "cell_type": "code",
   "execution_count": 3,
   "metadata": {},
   "outputs": [
    {
     "ename": "TypeError",
     "evalue": "Collection.query() got an unexpected keyword argument 'collection_name'",
     "output_type": "error",
     "traceback": [
      "\u001b[0;31m---------------------------------------------------------------------------\u001b[0m",
      "\u001b[0;31mTypeError\u001b[0m                                 Traceback (most recent call last)",
      "Cell \u001b[0;32mIn[3], line 1\u001b[0m\n\u001b[0;32m----> 1\u001b[0m \u001b[43mvectorstore\u001b[49m\u001b[38;5;241;43m.\u001b[39;49m\u001b[43msimilarity_search\u001b[49m\u001b[43m(\u001b[49m\u001b[38;5;124;43m\"\u001b[39;49m\u001b[38;5;124;43mharrison likes?\u001b[39;49m\u001b[38;5;124;43m\"\u001b[39;49m\u001b[43m \u001b[49m\u001b[43m,\u001b[49m\u001b[43m \u001b[49m\u001b[43mk\u001b[49m\u001b[38;5;241;43m=\u001b[39;49m\u001b[38;5;241;43m2\u001b[39;49m\u001b[43m \u001b[49m\u001b[43m,\u001b[49m\u001b[43m \u001b[49m\u001b[43mcollection_name\u001b[49m\u001b[38;5;241;43m=\u001b[39;49m\u001b[38;5;124;43m\"\u001b[39;49m\u001b[38;5;124;43mdemo_collection\u001b[39;49m\u001b[38;5;124;43m\"\u001b[39;49m\u001b[43m)\u001b[49m\n",
      "File \u001b[0;32m~/Desk/projects/university/slmops-project/application/slmops-application-qa/backend/.venv/lib/python3.11/site-packages/langchain_chroma/vectorstores.py:582\u001b[0m, in \u001b[0;36mChroma.similarity_search\u001b[0;34m(self, query, k, filter, **kwargs)\u001b[0m\n\u001b[1;32m    564\u001b[0m \u001b[38;5;28;01mdef\u001b[39;00m \u001b[38;5;21msimilarity_search\u001b[39m(\n\u001b[1;32m    565\u001b[0m     \u001b[38;5;28mself\u001b[39m,\n\u001b[1;32m    566\u001b[0m     query: \u001b[38;5;28mstr\u001b[39m,\n\u001b[0;32m   (...)\u001b[0m\n\u001b[1;32m    569\u001b[0m     \u001b[38;5;241m*\u001b[39m\u001b[38;5;241m*\u001b[39mkwargs: Any,\n\u001b[1;32m    570\u001b[0m ) \u001b[38;5;241m-\u001b[39m\u001b[38;5;241m>\u001b[39m List[Document]:\n\u001b[1;32m    571\u001b[0m \u001b[38;5;250m    \u001b[39m\u001b[38;5;124;03m\"\"\"Run similarity search with Chroma.\u001b[39;00m\n\u001b[1;32m    572\u001b[0m \n\u001b[1;32m    573\u001b[0m \u001b[38;5;124;03m    Args:\u001b[39;00m\n\u001b[0;32m   (...)\u001b[0m\n\u001b[1;32m    580\u001b[0m \u001b[38;5;124;03m        List of documents most similar to the query text.\u001b[39;00m\n\u001b[1;32m    581\u001b[0m \u001b[38;5;124;03m    \"\"\"\u001b[39;00m\n\u001b[0;32m--> 582\u001b[0m     docs_and_scores \u001b[38;5;241m=\u001b[39m \u001b[38;5;28;43mself\u001b[39;49m\u001b[38;5;241;43m.\u001b[39;49m\u001b[43msimilarity_search_with_score\u001b[49m\u001b[43m(\u001b[49m\n\u001b[1;32m    583\u001b[0m \u001b[43m        \u001b[49m\u001b[43mquery\u001b[49m\u001b[43m,\u001b[49m\u001b[43m \u001b[49m\u001b[43mk\u001b[49m\u001b[43m,\u001b[49m\u001b[43m \u001b[49m\u001b[38;5;28;43mfilter\u001b[39;49m\u001b[38;5;241;43m=\u001b[39;49m\u001b[38;5;28;43mfilter\u001b[39;49m\u001b[43m,\u001b[49m\u001b[43m \u001b[49m\u001b[38;5;241;43m*\u001b[39;49m\u001b[38;5;241;43m*\u001b[39;49m\u001b[43mkwargs\u001b[49m\n\u001b[1;32m    584\u001b[0m \u001b[43m    \u001b[49m\u001b[43m)\u001b[49m\n\u001b[1;32m    585\u001b[0m     \u001b[38;5;28;01mreturn\u001b[39;00m [doc \u001b[38;5;28;01mfor\u001b[39;00m doc, _ \u001b[38;5;129;01min\u001b[39;00m docs_and_scores]\n",
      "File \u001b[0;32m~/Desk/projects/university/slmops-project/application/slmops-application-qa/backend/.venv/lib/python3.11/site-packages/langchain_chroma/vectorstores.py:680\u001b[0m, in \u001b[0;36mChroma.similarity_search_with_score\u001b[0;34m(self, query, k, filter, where_document, **kwargs)\u001b[0m\n\u001b[1;32m    678\u001b[0m \u001b[38;5;28;01melse\u001b[39;00m:\n\u001b[1;32m    679\u001b[0m     query_embedding \u001b[38;5;241m=\u001b[39m \u001b[38;5;28mself\u001b[39m\u001b[38;5;241m.\u001b[39m_embedding_function\u001b[38;5;241m.\u001b[39membed_query(query)\n\u001b[0;32m--> 680\u001b[0m     results \u001b[38;5;241m=\u001b[39m \u001b[38;5;28;43mself\u001b[39;49m\u001b[38;5;241;43m.\u001b[39;49m\u001b[43m__query_collection\u001b[49m\u001b[43m(\u001b[49m\n\u001b[1;32m    681\u001b[0m \u001b[43m        \u001b[49m\u001b[43mquery_embeddings\u001b[49m\u001b[38;5;241;43m=\u001b[39;49m\u001b[43m[\u001b[49m\u001b[43mquery_embedding\u001b[49m\u001b[43m]\u001b[49m\u001b[43m,\u001b[49m\n\u001b[1;32m    682\u001b[0m \u001b[43m        \u001b[49m\u001b[43mn_results\u001b[49m\u001b[38;5;241;43m=\u001b[39;49m\u001b[43mk\u001b[49m\u001b[43m,\u001b[49m\n\u001b[1;32m    683\u001b[0m \u001b[43m        \u001b[49m\u001b[43mwhere\u001b[49m\u001b[38;5;241;43m=\u001b[39;49m\u001b[38;5;28;43mfilter\u001b[39;49m\u001b[43m,\u001b[49m\n\u001b[1;32m    684\u001b[0m \u001b[43m        \u001b[49m\u001b[43mwhere_document\u001b[49m\u001b[38;5;241;43m=\u001b[39;49m\u001b[43mwhere_document\u001b[49m\u001b[43m,\u001b[49m\n\u001b[1;32m    685\u001b[0m \u001b[43m        \u001b[49m\u001b[38;5;241;43m*\u001b[39;49m\u001b[38;5;241;43m*\u001b[39;49m\u001b[43mkwargs\u001b[49m\u001b[43m,\u001b[49m\n\u001b[1;32m    686\u001b[0m \u001b[43m    \u001b[49m\u001b[43m)\u001b[49m\n\u001b[1;32m    688\u001b[0m \u001b[38;5;28;01mreturn\u001b[39;00m _results_to_docs_and_scores(results)\n",
      "File \u001b[0;32m~/Desk/projects/university/slmops-project/application/slmops-application-qa/backend/.venv/lib/python3.11/site-packages/langchain_core/utils/utils.py:53\u001b[0m, in \u001b[0;36mxor_args.<locals>.decorator.<locals>.wrapper\u001b[0;34m(*args, **kwargs)\u001b[0m\n\u001b[1;32m     47\u001b[0m     msg \u001b[38;5;241m=\u001b[39m (\n\u001b[1;32m     48\u001b[0m         \u001b[38;5;124m\"\u001b[39m\u001b[38;5;124mExactly one argument in each of the following\u001b[39m\u001b[38;5;124m\"\u001b[39m\n\u001b[1;32m     49\u001b[0m         \u001b[38;5;124m\"\u001b[39m\u001b[38;5;124m groups must be defined:\u001b[39m\u001b[38;5;124m\"\u001b[39m\n\u001b[1;32m     50\u001b[0m         \u001b[38;5;124mf\u001b[39m\u001b[38;5;124m\"\u001b[39m\u001b[38;5;124m \u001b[39m\u001b[38;5;132;01m{\u001b[39;00m\u001b[38;5;124m'\u001b[39m\u001b[38;5;124m, \u001b[39m\u001b[38;5;124m'\u001b[39m\u001b[38;5;241m.\u001b[39mjoin(invalid_group_names)\u001b[38;5;132;01m}\u001b[39;00m\u001b[38;5;124m\"\u001b[39m\n\u001b[1;32m     51\u001b[0m     )\n\u001b[1;32m     52\u001b[0m     \u001b[38;5;28;01mraise\u001b[39;00m \u001b[38;5;167;01mValueError\u001b[39;00m(msg)\n\u001b[0;32m---> 53\u001b[0m \u001b[38;5;28;01mreturn\u001b[39;00m \u001b[43mfunc\u001b[49m\u001b[43m(\u001b[49m\u001b[38;5;241;43m*\u001b[39;49m\u001b[43margs\u001b[49m\u001b[43m,\u001b[49m\u001b[43m \u001b[49m\u001b[38;5;241;43m*\u001b[39;49m\u001b[38;5;241;43m*\u001b[39;49m\u001b[43mkwargs\u001b[49m\u001b[43m)\u001b[49m\n",
      "File \u001b[0;32m~/Desk/projects/university/slmops-project/application/slmops-application-qa/backend/.venv/lib/python3.11/site-packages/langchain_chroma/vectorstores.py:379\u001b[0m, in \u001b[0;36mChroma.__query_collection\u001b[0;34m(self, query_texts, query_embeddings, n_results, where, where_document, **kwargs)\u001b[0m\n\u001b[1;32m    351\u001b[0m \u001b[38;5;129m@xor_args\u001b[39m((\u001b[38;5;124m\"\u001b[39m\u001b[38;5;124mquery_texts\u001b[39m\u001b[38;5;124m\"\u001b[39m, \u001b[38;5;124m\"\u001b[39m\u001b[38;5;124mquery_embeddings\u001b[39m\u001b[38;5;124m\"\u001b[39m))\n\u001b[1;32m    352\u001b[0m \u001b[38;5;28;01mdef\u001b[39;00m \u001b[38;5;21m__query_collection\u001b[39m(\n\u001b[1;32m    353\u001b[0m     \u001b[38;5;28mself\u001b[39m,\n\u001b[0;32m   (...)\u001b[0m\n\u001b[1;32m    359\u001b[0m     \u001b[38;5;241m*\u001b[39m\u001b[38;5;241m*\u001b[39mkwargs: Any,\n\u001b[1;32m    360\u001b[0m ) \u001b[38;5;241m-\u001b[39m\u001b[38;5;241m>\u001b[39m Union[List[Document], chromadb\u001b[38;5;241m.\u001b[39mQueryResult]:\n\u001b[1;32m    361\u001b[0m \u001b[38;5;250m    \u001b[39m\u001b[38;5;124;03m\"\"\"Query the chroma collection.\u001b[39;00m\n\u001b[1;32m    362\u001b[0m \n\u001b[1;32m    363\u001b[0m \u001b[38;5;124;03m    Args:\u001b[39;00m\n\u001b[0;32m   (...)\u001b[0m\n\u001b[1;32m    377\u001b[0m \u001b[38;5;124;03m    See more: https://docs.trychroma.com/reference/py-collection#query\u001b[39;00m\n\u001b[1;32m    378\u001b[0m \u001b[38;5;124;03m    \"\"\"\u001b[39;00m\n\u001b[0;32m--> 379\u001b[0m     \u001b[38;5;28;01mreturn\u001b[39;00m \u001b[38;5;28;43mself\u001b[39;49m\u001b[38;5;241;43m.\u001b[39;49m\u001b[43m_collection\u001b[49m\u001b[38;5;241;43m.\u001b[39;49m\u001b[43mquery\u001b[49m\u001b[43m(\u001b[49m\n\u001b[1;32m    380\u001b[0m \u001b[43m        \u001b[49m\u001b[43mquery_texts\u001b[49m\u001b[38;5;241;43m=\u001b[39;49m\u001b[43mquery_texts\u001b[49m\u001b[43m,\u001b[49m\n\u001b[1;32m    381\u001b[0m \u001b[43m        \u001b[49m\u001b[43mquery_embeddings\u001b[49m\u001b[38;5;241;43m=\u001b[39;49m\u001b[43mquery_embeddings\u001b[49m\u001b[43m,\u001b[49m\u001b[43m  \u001b[49m\u001b[38;5;66;43;03m# type: ignore\u001b[39;49;00m\n\u001b[1;32m    382\u001b[0m \u001b[43m        \u001b[49m\u001b[43mn_results\u001b[49m\u001b[38;5;241;43m=\u001b[39;49m\u001b[43mn_results\u001b[49m\u001b[43m,\u001b[49m\n\u001b[1;32m    383\u001b[0m \u001b[43m        \u001b[49m\u001b[43mwhere\u001b[49m\u001b[38;5;241;43m=\u001b[39;49m\u001b[43mwhere\u001b[49m\u001b[43m,\u001b[49m\u001b[43m  \u001b[49m\u001b[38;5;66;43;03m# type: ignore\u001b[39;49;00m\n\u001b[1;32m    384\u001b[0m \u001b[43m        \u001b[49m\u001b[43mwhere_document\u001b[49m\u001b[38;5;241;43m=\u001b[39;49m\u001b[43mwhere_document\u001b[49m\u001b[43m,\u001b[49m\u001b[43m  \u001b[49m\u001b[38;5;66;43;03m# type: ignore\u001b[39;49;00m\n\u001b[1;32m    385\u001b[0m \u001b[43m        \u001b[49m\u001b[38;5;241;43m*\u001b[39;49m\u001b[38;5;241;43m*\u001b[39;49m\u001b[43mkwargs\u001b[49m\u001b[43m,\u001b[49m\n\u001b[1;32m    386\u001b[0m \u001b[43m    \u001b[49m\u001b[43m)\u001b[49m\n",
      "\u001b[0;31mTypeError\u001b[0m: Collection.query() got an unexpected keyword argument 'collection_name'"
     ]
    }
   ],
   "source": [
    "vectorstore.similarity_search(\"harrison likes?\" , k=2 )\n"
   ]
  },
  {
   "cell_type": "code",
   "execution_count": 2,
   "metadata": {},
   "outputs": [
    {
     "data": {
      "text/plain": [
       "'/Users/parsa/Desk/projects/university/slmops-project/application/slmops-application-qa/backend/data/vectoredb'"
      ]
     },
     "execution_count": 2,
     "metadata": {},
     "output_type": "execute_result"
    }
   ],
   "source": [
    "settings.VECTOREDB_DIR"
   ]
  },
  {
   "cell_type": "code",
   "execution_count": 8,
   "metadata": {},
   "outputs": [],
   "source": [
    "from langchain_chroma import Chroma\n",
    "from langchain_core.output_parsers import StrOutputParser\n",
    "from langchain_core.prompts import ChatPromptTemplate\n",
    "from langchain_core.runnables import RunnablePassthrough\n",
    "from langchain_openai import OpenAIEmbeddings\n",
    "\n",
    "from langchain_openai import ChatOpenAI\n",
    "import nest_asyncio\n",
    "from langchain.prompts import PromptTemplate,ChatPromptTemplate\n",
    "from langchain_core.runnables import RunnablePassthrough, RunnableLambda\n",
    "from app.shared.config import settings\n",
    "\n",
    "import yaml\n",
    "from pathlib import Path\n",
    "from typing import List\n",
    "\n",
    "read_qa = yaml.safe_load(open(Path(settings.RAG_DATA_DIR) / \"qa.yaml\" , \"r\"))\n",
    "\n",
    "from pydantic import BaseModel\n",
    "class QA(BaseModel):\n",
    "    question: str\n",
    "    answer: str\n",
    "    source: str\n",
    "    \n",
    "    def __str__(self):\n",
    "        return f\"**Question:** {self.question}\\n**Answer:** {self.answer}\"\n",
    "    def markdown(self):\n",
    "        return f\"**Question:** {self.question}\\n**Answer:** {self.answer} \\n**Source:** [Link]({self.source})\"\n",
    "    \n",
    "qas: list[QA] = [QA(**qa,source=read_qa[\"source\"]) for qa in read_qa[\"questions\"]]\n",
    "#making the q and answers to markdown\n",
    "qas_metadata = [{'main':qa.model_dump() , \"markdown\":qa.markdown()} for qa in qas]\n",
    "\n",
    "\n",
    "model = ChatOpenAI(model=\"gpt-4o-mini\")\n",
    "embeddings = OpenAIEmbeddings(model=\"text-embedding-3-large\")\n",
    "\n",
    "template = \"\"\"Answer the question based only on the following context:\n",
    "{context}\n",
    "\n",
    "Question: {question}\n",
    "\"\"\"\n",
    "prompt = ChatPromptTemplate.from_template(template)"
   ]
  },
  {
   "cell_type": "code",
   "execution_count": 1,
   "metadata": {},
   "outputs": [
    {
     "name": "stderr",
     "output_type": "stream",
     "text": [
      "/Users/parsa/Desk/projects/university/slmops-project/application/slmops-application-qa/backend/app/shared/config.py:126: UserWarning: The value of SECRET_KEY is \"changethis\", for security, please change it, at least for deployments.\n",
      "  warnings.warn(message, stacklevel=1)\n",
      "/Users/parsa/Desk/projects/university/slmops-project/application/slmops-application-qa/backend/app/shared/config.py:126: UserWarning: The value of FIRST_SUPERUSER_PASSWORD is \"changethis\", for security, please change it, at least for deployments.\n",
      "  warnings.warn(message, stacklevel=1)\n",
      "/Users/parsa/Desk/projects/university/slmops-project/application/slmops-application-qa/backend/.venv/lib/python3.11/site-packages/tqdm/auto.py:21: TqdmWarning: IProgress not found. Please update jupyter and ipywidgets. See https://ipywidgets.readthedocs.io/en/stable/user_install.html\n",
      "  from .autonotebook import tqdm as notebook_tqdm\n",
      "Fetching 5 files: 100%|██████████| 5/5 [00:00<00:00, 60090.32it/s]\n"
     ]
    }
   ],
   "source": [
    "from langchain_chroma import Chroma\n",
    "from langchain_core.output_parsers import StrOutputParser\n",
    "from langchain_core.prompts import ChatPromptTemplate\n",
    "from langchain_core.runnables import RunnablePassthrough\n",
    "from langchain_openai import OpenAIEmbeddings\n",
    "import os\n",
    "\n",
    "import nest_asyncio\n",
    "from langchain.prompts import PromptTemplate,ChatPromptTemplate\n",
    "from langchain_core.runnables import RunnablePassthrough, RunnableLambda\n",
    "from app.shared.config import settings\n",
    "from langchain_core.documents import Document\n",
    "import yaml\n",
    "from pathlib import Path\n",
    "from typing import List\n",
    "from app.shared.libs.langchain.model import model,embeddings\n",
    "\n",
    "read_qa = yaml.safe_load(open(Path(settings.RAG_DATA_DIR) / \"qa.yaml\" , \"r\"))\n",
    "\n",
    "from pydantic import BaseModel\n",
    "class QA(BaseModel):\n",
    "    question: str\n",
    "    answer: str\n",
    "    source: str\n",
    "    \n",
    "    def __str__(self):\n",
    "        return f\"**Question:** {self.question}\\n**Answer:** {self.answer}\"\n",
    "    def markdown(self):\n",
    "        return f\"**Question:** {self.question}\\n**Answer:** {self.answer} \\n**Source:** [Link]({self.source})\"\n",
    "    \n",
    "qas: list[QA] = [QA(**qa,source=read_qa[\"source\"]) for qa in read_qa[\"questions\"]]\n",
    "#making the q and answers to markdown\n",
    "qas_metadata = [{**qa.model_dump() , \"markdown\":qa.markdown()} for qa in qas]\n",
    "\n",
    "\n",
    "\n",
    "\n",
    "template = \"\"\"Answer the question based only on the following context:\n",
    "{context}\n",
    "\n",
    "Question: {question}\n",
    "\"\"\"\n",
    "prompt = ChatPromptTemplate.from_template(template)\n",
    "\n",
    "if settings.VECTOREDB_DIR and settings.STATUS == \"MOBILE\":\n",
    "# if False:  \n",
    "    vectorstore = Chroma(\n",
    "        collection_name=\"demo_collection\",\n",
    "        embedding_function=embeddings,\n",
    "        persist_directory=settings.VECTOREDB_DIR,\n",
    "    )\n",
    "\n",
    "else:\n",
    "    import shutil\n",
    "    shutil.rmtree(settings.VECTOREDB_DIR, ignore_errors=False)\n",
    "    os.makedirs(settings.VECTOREDB_DIR, exist_ok=True, mode=0o777)\n",
    "    os.chmod(settings.VECTOREDB_DIR, 0o777)\n",
    "    vectorstore = Chroma.from_documents(\n",
    "        documents=[Document(page_content=str(qa),metadata = {**qa.model_dump() , \"markdown\":qa.markdown()}) for qa in qas],\n",
    "        embedding=embeddings,\n",
    "        persist_directory=settings.VECTOREDB_DIR,\n",
    "        # collection_name=\"qa_collection\",\n",
    "    )\n",
    "\n",
    "\n",
    "retriever = vectorstore.as_retriever(k=8)\n",
    "\n",
    "\n",
    "\n",
    "from langchain.retrievers.document_compressors import DocumentCompressorPipeline\n",
    "from langchain_community.document_transformers import EmbeddingsRedundantFilter\n",
    "from langchain.retrievers.document_compressors import EmbeddingsFilter\n",
    "from langchain.retrievers.document_compressors import LLMListwiseRerank\n",
    "from langchain_text_splitters import CharacterTextSplitter\n",
    "from langchain.retrievers import ContextualCompressionRetriever\n",
    "\n",
    "def pretty_print_docs(docs):\n",
    "    answer = \"\"\n",
    "    if docs:\n",
    "        answer = (\n",
    "            f\"\\n{'-' * 100}\\n\".join(\n",
    "                [f\"Document {i}:\\n\\n\" + d.page_content for i, d in enumerate(docs)]\n",
    "            )\n",
    "        )\n",
    "    else:\n",
    "        answer = \"No relevant documents found. \\n if the question is about greeting answer it properly and if not mention you do not know the answer.\"\n",
    "    return answer\n",
    "\n"
   ]
  },
  {
   "cell_type": "code",
   "execution_count": 6,
   "metadata": {},
   "outputs": [],
   "source": [
    "from langchain.retrievers.document_compressors import EmbeddingsFilter\n",
    "from langchain.retrievers.document_compressors import LLMChainExtractor\n",
    "\n",
    "redundant_filter = EmbeddingsRedundantFilter(embeddings=embeddings)\n",
    "relevant_filter = EmbeddingsFilter(embeddings=embeddings, similarity_threshold=0.7)\n",
    "compressor = LLMChainExtractor.from_llm(model)\n",
    "_filter = LLMListwiseRerank.from_llm(model)\n",
    "pipeline_compressor = DocumentCompressorPipeline(\n",
    "    transformers=[redundant_filter , relevant_filter , ]\n",
    ")\n",
    "compression_retriever1 = ContextualCompressionRetriever(\n",
    "    base_retriever=retriever,\n",
    "    base_compressor=pipeline_compressor,\n",
    ")\n",
    "\n",
    "\n",
    "retrieval_chain = (\n",
    "    {\n",
    "        \"context\": compression_retriever1.with_config(run_name=\"Docs\"), #| \n",
    "        # RunnableLambda(lambda x: pretty_print_docs(x) ,\n",
    "        \"question\": RunnablePassthrough(),\n",
    "    }\n",
    "    | RunnablePassthrough()\n",
    "    # | prompt\n",
    "    # | model.with_config(run_name=\"stream\")\n",
    "    # | StrOutputParser()\n",
    ")"
   ]
  },
  {
   "cell_type": "code",
   "execution_count": 7,
   "metadata": {},
   "outputs": [],
   "source": [
    "answer = retrieval_chain.invoke(\"How do I check-in at counter?\" )\n"
   ]
  },
  {
   "cell_type": "code",
   "execution_count": 11,
   "metadata": {},
   "outputs": [
    {
     "name": "stdout",
     "output_type": "stream",
     "text": [
      "Answer the question based only on the following context:\n",
      "Document 0:\n",
      "\n",
      "**Question:** How do I check-in at counter?\n",
      "**Answer:** After you complete your ticket and ID check at the check-in counter, your baggage is collected and your boarding card is issued. After this process, you can check your boarding gate by following the information screens and board with your board pass.\n",
      "----------------------------------------------------------------------------------------------------\n",
      "Document 1:\n",
      "\n",
      "The context that is relevant to answer the question \"How do I check-in at counter?\" is:\n",
      "\n",
      "**Answer:** First of all, the kiosks you can check in are touch screen, designed to be easy to use and have a very simple menu. To start check-in process, you can place a Miles & Smiles or any debit card in the card reader or enter an e-ticket number or reservation code (PNR). Check-in ends upon the selection of the seat, after which the boarding card is produced.\n",
      "----------------------------------------------------------------------------------------------------\n",
      "Document 2:\n",
      "\n",
      "*NO_OUTPUT*\n",
      "----------------------------------------------------------------------------------------------------\n",
      "Document 3:\n",
      "\n",
      "There is no context that is directly relevant to the question \"How do I check-in at counter?\" in the provided text.\n",
      "\n",
      "Question: How do I check-in at counter?\n",
      "\n"
     ]
    }
   ],
   "source": [
    "print(\"Answer the question based only on the following context:\\nDocument 0:\\n\\n**Question:** How do I check-in at counter?\\n**Answer:** After you complete your ticket and ID check at the check-in counter, your baggage is collected and your boarding card is issued. After this process, you can check your boarding gate by following the information screens and board with your board pass.\\n----------------------------------------------------------------------------------------------------\\nDocument 1:\\n\\nThe context that is relevant to answer the question \\\"How do I check-in at counter?\\\" is:\\n\\n**Answer:** First of all, the kiosks you can check in are touch screen, designed to be easy to use and have a very simple menu. To start check-in process, you can place a Miles & Smiles or any debit card in the card reader or enter an e-ticket number or reservation code (PNR). Check-in ends upon the selection of the seat, after which the boarding card is produced.\\n----------------------------------------------------------------------------------------------------\\nDocument 2:\\n\\n*NO_OUTPUT*\\n----------------------------------------------------------------------------------------------------\\nDocument 3:\\n\\nThere is no context that is directly relevant to the question \\\"How do I check-in at counter?\\\" in the provided text.\\n\\nQuestion: How do I check-in at counter?\\n\")"
   ]
  },
  {
   "cell_type": "code",
   "execution_count": 8,
   "metadata": {},
   "outputs": [
    {
     "data": {
      "text/plain": [
       "{'context': [Document(metadata={'answer': 'After you complete your ticket and ID check at the check-in counter, your baggage is collected and your boarding card is issued. After this process, you can check your boarding gate by following the information screens and board with your board pass.', 'markdown': '**Question:** How do I check-in at counter?\\n**Answer:** After you complete your ticket and ID check at the check-in counter, your baggage is collected and your boarding card is issued. After this process, you can check your boarding gate by following the information screens and board with your board pass. \\n**Source:** [Link](https://www.turkishairlines.com/en-int/any-questions/check-in-questions/index.html)', 'question': 'How do I check-in at counter?', 'source': 'https://www.turkishairlines.com/en-int/any-questions/check-in-questions/index.html'}, page_content='**Question:** How do I check-in at counter?\\n**Answer:** After you complete your ticket and ID check at the check-in counter, your baggage is collected and your boarding card is issued. After this process, you can check your boarding gate by following the information screens and board with your board pass.'),\n",
       "  Document(metadata={'answer': 'First of all, the kiosks you can check in are touch screen, designed to be easy to use and have a very simple menu. To start check-in process, you can place a Miles & Smiles or any debit card in the card reader or enter an e-ticket number or reservation code (PNR). Check-in ends upon the selection of the seat, after which the boarding card is produced. The card that you place on the card reader at the time of check-in is only used to access your credentials. You can visit our check-in page for full details about Kiosk.', 'markdown': '**Question:** How do I perform kiosk check-in?\\n**Answer:** First of all, the kiosks you can check in are touch screen, designed to be easy to use and have a very simple menu. To start check-in process, you can place a Miles & Smiles or any debit card in the card reader or enter an e-ticket number or reservation code (PNR). Check-in ends upon the selection of the seat, after which the boarding card is produced. The card that you place on the card reader at the time of check-in is only used to access your credentials. You can visit our check-in page for full details about Kiosk. \\n**Source:** [Link](https://www.turkishairlines.com/en-int/any-questions/check-in-questions/index.html)', 'question': 'How do I perform kiosk check-in?', 'source': 'https://www.turkishairlines.com/en-int/any-questions/check-in-questions/index.html'}, page_content='The context that is relevant to answer the question \"How do I check-in at counter?\" is:\\n\\n**Answer:** First of all, the kiosks you can check in are touch screen, designed to be easy to use and have a very simple menu. To start check-in process, you can place a Miles & Smiles or any debit card in the card reader or enter an e-ticket number or reservation code (PNR). Check-in ends upon the selection of the seat, after which the boarding card is produced.'),\n",
       "  Document(metadata={'answer': 'Most importantly, we would like to reassure you that our self-service kiosks have a touch screen and straightforward menus that have been designed for ease of use. In order to start the check-in process, place your Miles&Smiles card or the card that was used to purchase the flight on the card reader. Alternatively, you can enter your e-ticket number or reservation code (PNR). Once you have selected a seat, your boarding pass is printed off and the check-in process is complete. The card you place on the card reader during check-in is only used for identification purposes. For more detailed information please visit our check-in page.', 'markdown': '**Question:** How does self-service check-in work?\\n**Answer:** Most importantly, we would like to reassure you that our self-service kiosks have a touch screen and straightforward menus that have been designed for ease of use. In order to start the check-in process, place your Miles&Smiles card or the card that was used to purchase the flight on the card reader. Alternatively, you can enter your e-ticket number or reservation code (PNR). Once you have selected a seat, your boarding pass is printed off and the check-in process is complete. The card you place on the card reader during check-in is only used for identification purposes. For more detailed information please visit our check-in page. \\n**Source:** [Link](https://www.turkishairlines.com/en-int/any-questions/check-in-questions/index.html)', 'question': 'How does self-service check-in work?', 'source': 'https://www.turkishairlines.com/en-int/any-questions/check-in-questions/index.html'}, page_content='*NO_OUTPUT*'),\n",
       "  Document(metadata={'answer': 'Online check-in starts 24 hours before the flight and ends 90 minutes before the flight. You can check whether there is an online check-in option at the airport where your flight will take place, from the list of online / mobile check-in facilities at the airports.', 'markdown': '**Question:** When can I check-in online?\\n**Answer:** Online check-in starts 24 hours before the flight and ends 90 minutes before the flight. You can check whether there is an online check-in option at the airport where your flight will take place, from the list of online / mobile check-in facilities at the airports. \\n**Source:** [Link](https://www.turkishairlines.com/en-int/any-questions/check-in-questions/index.html)', 'question': 'When can I check-in online?', 'source': 'https://www.turkishairlines.com/en-int/any-questions/check-in-questions/index.html'}, page_content='There is no context that is directly relevant to the question \"How do I check-in at counter?\" in the provided text.')],\n",
       " 'question': 'How do I check-in at counter?'}"
      ]
     },
     "execution_count": 8,
     "metadata": {},
     "output_type": "execute_result"
    }
   ],
   "source": [
    "answer"
   ]
  },
  {
   "cell_type": "code",
   "execution_count": 20,
   "metadata": {},
   "outputs": [
    {
     "data": {
      "text/plain": [
       "'**Question:** How do I check-in at counter?\\n**Answer:** After you complete your ticket and ID check at the check-in counter, your baggage is collected and your boarding card is issued. After this process, you can check your boarding gate by following the information screens and board with your board pass.'"
      ]
     },
     "execution_count": 20,
     "metadata": {},
     "output_type": "execute_result"
    }
   ],
   "source": [
    "answer[\"context\"][0].page_content"
   ]
  },
  {
   "cell_type": "code",
   "execution_count": 2,
   "metadata": {},
   "outputs": [
    {
     "name": "stdout",
     "output_type": "stream",
     "text": [
      "Document 1:\n",
      "\n",
      "**Question:** How do I check-in at counter?\n",
      "**Answer:** After you complete your ticket and ID check at the check-in counter, your baggage is collected and your boarding card is issued. After this process, you can check your boarding gate by following the information screens and board with your board pass.\n",
      "----------------------------------------------------------------------------------------------------\n",
      "Document 2:\n",
      "\n",
      "**Question:** What does check-in mean?\n",
      "**Answer:** Check-in refers to all the essential ticket and baggage procedures you need to go through at the airport by a specific time before the flight departure.\n",
      "----------------------------------------------------------------------------------------------------\n",
      "Document 3:\n",
      "\n",
      "**Question:** What should I do if I checked in online but also have baggage to check?\n",
      "**Answer:** As we do not ask passengers for their baggage details during online check-in, you need to hand in your baggage to check at the airport “Bag Drop” or “Online Check-in” counters. If you have extra baggage, make sure you arrive at the airport with enough time for the payment procedures.\n"
     ]
    },
    {
     "data": {
      "text/plain": [
       "'After you complete your ticket and ID check at the check-in counter, your baggage is collected and your boarding card is issued. After this process, you can check your boarding gate by following the information screens and board with your board pass.'"
      ]
     },
     "execution_count": 2,
     "metadata": {},
     "output_type": "execute_result"
    }
   ],
   "source": [
    "retrieval_chain.invoke(\"How do I check-in at counter?\" )"
   ]
  },
  {
   "cell_type": "code",
   "execution_count": null,
   "metadata": {},
   "outputs": [],
   "source": []
  }
 ],
 "metadata": {
  "kernelspec": {
   "display_name": ".venv",
   "language": "python",
   "name": "python3"
  },
  "language_info": {
   "codemirror_mode": {
    "name": "ipython",
    "version": 3
   },
   "file_extension": ".py",
   "mimetype": "text/x-python",
   "name": "python",
   "nbconvert_exporter": "python",
   "pygments_lexer": "ipython3",
   "version": "3.11.10"
  }
 },
 "nbformat": 4,
 "nbformat_minor": 2
}
