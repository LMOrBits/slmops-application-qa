{
 "cells": [
  {
   "cell_type": "code",
   "execution_count": 36,
   "metadata": {},
   "outputs": [],
   "source": [
    "from app.shared.libs.vercel.protocol import ToolCallResultType, VercelStream,ToolCallResult,ToolCall,ToolCallType,Reference\n",
    "tool_call = ToolCall(toolCallId=\"call-456\",toolName=\"streaming-tool\",args=ToolCallResultType(type=ToolCallType.REFERENCES))\n",
    "tool_result = ToolCallResult(result=[Reference(id=1,content=\"text\"),Reference(id=2,content=\"content2\")])\n"
   ]
  },
  {
   "cell_type": "code",
   "execution_count": 39,
   "metadata": {},
   "outputs": [
    {
     "name": "stdout",
     "output_type": "stream",
     "text": [
      "b:{\"toolCallId\": \"call-456\", \"toolName\": \"streaming-tool\"}\n",
      "      None\n",
      "c:{\"toolCallId\": \"call-456\", \"argsTextDelta\": {\"type\": \"references\"}}\n",
      "      None\n",
      "9:{\"toolCallId\": \"call-456\", \"result\": {\"result\": [{\"id\": 1, \"content\": \"text\"}, {\"id\": 2, \"content\": \"content2\"}]}}\n",
      "      {'toolCallId': 'call-456', 'result': {'result': [{'id': 1, 'content': 'text'}, {'id': 2, 'content': 'content2'}]}}\n"
     ]
    }
   ],
   "source": [
    "for text,outcome in VercelStream.stream_tool_call(tool_call,tool_result):\n",
    "    print(text,\"    \",outcome)"
   ]
  },
  {
   "cell_type": "code",
   "execution_count": null,
   "metadata": {},
   "outputs": [],
   "source": []
  }
 ],
 "metadata": {
  "language_info": {
   "name": "python"
  }
 },
 "nbformat": 4,
 "nbformat_minor": 2
}
